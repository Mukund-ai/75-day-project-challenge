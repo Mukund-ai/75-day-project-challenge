{
  "nbformat": 4,
  "nbformat_minor": 0,
  "metadata": {
    "colab": {
      "provenance": []
    },
    "kernelspec": {
      "name": "python3",
      "display_name": "Python 3"
    },
    "language_info": {
      "name": "python"
    }
  },
  "cells": [
    {
      "cell_type": "code",
      "execution_count": null,
      "metadata": {
        "id": "1K5zHDk8ILjA"
      },
      "outputs": [],
      "source": [
        "# Movie rate analysis using pandas\n"
      ]
    },
    {
      "cell_type": "code",
      "source": [
        "import pandas as pd\n",
        "import numpy as np\n",
        "import matplotlib.pyplot as plt\n",
        "\n",
        "# Generate fake movie data\n",
        "df = pd.DataFrame({\n",
        "    'Title': [f\"Movie {i}\" for i in range(1, 21)],\n",
        "    'Genre': np.random.choice(['Action', 'Drama', 'Comedy'], 20),\n",
        "    'Rating': np.round(np.random.uniform(5, 10, 20), 2),\n",
        "    'Votes': np.random.randint(100, 2000, 20),\n",
        "    'Year': np.random.randint(2000, 2024, 20)\n",
        "})\n",
        "\n",
        "print(df.head())\n",
        "\n",
        "# 1️⃣ Average rating by genre\n",
        "genre_rating = df.groupby('Genre')['Rating'].mean()\n",
        "print(\"\\nAverage Rating by Genre:\\n\", genre_rating)\n",
        "\n",
        "# 2️⃣ Highly rated and popular\n",
        "popular = df[df['Votes'] > 1000].sort_values('Rating', ascending=False)\n",
        "print(\"\\nPopular & Highly Rated:\\n\", popular)\n",
        "\n",
        "# 3️⃣ Add weighted score (like IMDb uses)\n",
        "# Weight = Votes * Rating\n",
        "df['WeightedScore'] = df['Votes'] * df['Rating']\n",
        "print(\"\\nWith Weighted Score:\\n\", df.head())\n",
        "\n",
        "# 4️⃣ Top movies by weighted score\n",
        "top_weighted = df.sort_values('WeightedScore', ascending=False).head(5)\n",
        "print(\"\\nTop 5 Movies by Weighted Score:\\n\", top_weighted)\n",
        "\n",
        "# 5️⃣ Ratings distribution histogram\n",
        "plt.hist(df['Rating'], bins=5, edgecolor='black')\n",
        "plt.title('Ratings Distribution')\n",
        "plt.xlabel('Rating')\n",
        "plt.ylabel('Frequency')\n",
        "plt.show()\n",
        "\n",
        "# 6️⃣ Votes vs. Rating scatter plot\n",
        "plt.scatter(df['Votes'], df['Rating'])\n",
        "plt.title('Votes vs. Rating')\n",
        "plt.xlabel('Votes')\n",
        "plt.ylabel('Rating')\n",
        "plt.show()\n",
        "\n",
        "# 7️⃣ Average votes per genre\n",
        "genre_votes = df.groupby('Genre')['Votes'].mean()\n",
        "print(\"\\nAverage Votes by Genre:\\n\", genre_votes)\n",
        "\n",
        "# 8️⃣ Number of movies per year\n",
        "yearly_count = df.groupby('Year').size()\n",
        "print(\"\\nMovies per Year:\\n\", yearly_count)\n",
        "\n",
        "yearly_count.plot(kind='bar', figsize=(10, 4))\n",
        "plt.title('Number of Movies Released per Year')\n",
        "plt.xlabel('Year')\n",
        "plt.ylabel('Number of Movies')\n",
        "plt.show()\n",
        "\n",
        "# 9️⃣ Highest rated movie per genre\n",
        "best_per_genre = df.loc[df.groupby('Genre')['Rating'].idxmax()]\n",
        "print(\"\\nBest Rated Movie in Each Genre:\\n\", best_per_genre[['Genre', 'Title', 'Rating']])\n"
      ],
      "metadata": {
        "id": "viAVNEJqIV_z"
      },
      "execution_count": null,
      "outputs": []
    }
  ]
}