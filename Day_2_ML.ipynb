{
  "nbformat": 4,
  "nbformat_minor": 0,
  "metadata": {
    "colab": {
      "provenance": []
    },
    "kernelspec": {
      "name": "python3",
      "display_name": "Python 3"
    },
    "language_info": {
      "name": "python"
    }
  },
  "cells": [
    {
      "cell_type": "code",
      "execution_count": null,
      "metadata": {
        "id": "fOIhtTDuMIwg"
      },
      "outputs": [],
      "source": [
        "# PANDAS Data analysis playground\n"
      ]
    },
    {
      "cell_type": "code",
      "source": [
        "import pandas as pd\n",
        "\n",
        "\n",
        "data = {\n",
        "    'Name': ['Alice', 'Bob', 'Charlie', 'David', 'Emma'],\n",
        "    'Age': [22, 25, 23, 24, 22],\n",
        "    'Gender': ['F', 'M', 'M', 'M', 'F'],\n",
        "    'Score': [85, 90, 78, 92, 88],\n",
        "    'Subject': ['Math', 'Science', 'History', 'Math', 'Science']\n",
        "}\n",
        "\n",
        "df = pd.DataFrame(data)\n",
        "\n",
        "print(df)\n",
        "\n"
      ],
      "metadata": {
        "colab": {
          "base_uri": "https://localhost:8080/"
        },
        "id": "dhH7oN97Mpmo",
        "outputId": "f460dae0-3605-474f-872b-9725049527ed"
      },
      "execution_count": 6,
      "outputs": [
        {
          "output_type": "stream",
          "name": "stdout",
          "text": [
            "      Name  Age Gender  Score  Subject\n",
            "0    Alice   22      F     85     Math\n",
            "1      Bob   25      M     90  Science\n",
            "2  Charlie   23      M     78  History\n",
            "3    David   24      M     92     Math\n",
            "4     Emma   22      F     88  Science\n"
          ]
        }
      ]
    },
    {
      "cell_type": "code",
      "source": [
        "#Inspect data\n",
        "print (df.head())\n",
        "print(df.tail())\n",
        "print(df.describe())"
      ],
      "metadata": {
        "colab": {
          "base_uri": "https://localhost:8080/"
        },
        "id": "TDSkl4NbOv33",
        "outputId": "bb6ae928-785c-461b-a25f-ad5300cbcf8d"
      },
      "execution_count": 8,
      "outputs": [
        {
          "output_type": "stream",
          "name": "stdout",
          "text": [
            "      Name  Age Gender  Score  Subject\n",
            "0    Alice   22      F     85     Math\n",
            "1      Bob   25      M     90  Science\n",
            "2  Charlie   23      M     78  History\n",
            "3    David   24      M     92     Math\n",
            "4     Emma   22      F     88  Science\n",
            "      Name  Age Gender  Score  Subject\n",
            "0    Alice   22      F     85     Math\n",
            "1      Bob   25      M     90  Science\n",
            "2  Charlie   23      M     78  History\n",
            "3    David   24      M     92     Math\n",
            "4     Emma   22      F     88  Science\n",
            "            Age      Score\n",
            "count   5.00000   5.000000\n",
            "mean   23.20000  86.600000\n",
            "std     1.30384   5.458938\n",
            "min    22.00000  78.000000\n",
            "25%    22.00000  85.000000\n",
            "50%    23.00000  88.000000\n",
            "75%    24.00000  90.000000\n",
            "max    25.00000  92.000000\n"
          ]
        }
      ]
    },
    {
      "cell_type": "code",
      "source": [
        "#rename , drop etc .\n",
        "df['Passed'] = df['Score'] >= 80\n",
        "print(df)\n",
        "#rename\n",
        "df.rename(columns={'Score': 'Marks'}, inplace=True)\n",
        "print(df)\n",
        "#drop\n",
        "df.drop(columns=['Passed'], inplace=True)\n",
        "print(df)"
      ],
      "metadata": {
        "colab": {
          "base_uri": "https://localhost:8080/"
        },
        "id": "6Iwabi_UPI2L",
        "outputId": "7c126d30-cb7b-4978-d7f2-3bb150a0e95e"
      },
      "execution_count": 9,
      "outputs": [
        {
          "output_type": "stream",
          "name": "stdout",
          "text": [
            "      Name  Age Gender  Score  Subject  Passed\n",
            "0    Alice   22      F     85     Math    True\n",
            "1      Bob   25      M     90  Science    True\n",
            "2  Charlie   23      M     78  History   False\n",
            "3    David   24      M     92     Math    True\n",
            "4     Emma   22      F     88  Science    True\n",
            "      Name  Age Gender  Marks  Subject  Passed\n",
            "0    Alice   22      F     85     Math    True\n",
            "1      Bob   25      M     90  Science    True\n",
            "2  Charlie   23      M     78  History   False\n",
            "3    David   24      M     92     Math    True\n",
            "4     Emma   22      F     88  Science    True\n",
            "      Name  Age Gender  Marks  Subject\n",
            "0    Alice   22      F     85     Math\n",
            "1      Bob   25      M     90  Science\n",
            "2  Charlie   23      M     78  History\n",
            "3    David   24      M     92     Math\n",
            "4     Emma   22      F     88  Science\n"
          ]
        }
      ]
    },
    {
      "cell_type": "code",
      "source": [
        "#Filter rows\n",
        "older_students = df[df['Age'] > 23]\n",
        "print(\"Age > 23:\\n\", older_students)\n"
      ],
      "metadata": {
        "colab": {
          "base_uri": "https://localhost:8080/"
        },
        "id": "smpoOxb1PkI6",
        "outputId": "676b97d1-5a8d-46ae-e9b0-f94c512f2e8b"
      },
      "execution_count": 10,
      "outputs": [
        {
          "output_type": "stream",
          "name": "stdout",
          "text": [
            "Age > 23:\n",
            "     Name  Age Gender  Marks  Subject\n",
            "1    Bob   25      M     90  Science\n",
            "3  David   24      M     92     Math\n"
          ]
        }
      ]
    },
    {
      "cell_type": "code",
      "source": [
        "#sort data\n",
        "sorted_df = df.sort_values(by='Marks', ascending=False)\n",
        "print(\"Sorted by Marks:\\n\", sorted_df)"
      ],
      "metadata": {
        "colab": {
          "base_uri": "https://localhost:8080/"
        },
        "id": "RbXo8snmPq4T",
        "outputId": "c7d1a3ea-d506-484b-a41b-6378ff2cbf08"
      },
      "execution_count": 11,
      "outputs": [
        {
          "output_type": "stream",
          "name": "stdout",
          "text": [
            "Sorted by Marks:\n",
            "       Name  Age Gender  Marks  Subject\n",
            "3    David   24      M     92     Math\n",
            "1      Bob   25      M     90  Science\n",
            "4     Emma   22      F     88  Science\n",
            "0    Alice   22      F     85     Math\n",
            "2  Charlie   23      M     78  History\n"
          ]
        }
      ]
    },
    {
      "cell_type": "code",
      "source": [
        "# plotting a graph in pandas\n",
        "import matplotlib.pyplot as plt\n",
        "\n",
        "# Plot histogram of marks\n",
        "df['Marks'].plot(kind='hist', bins=5, title='Marks Distribution')\n",
        "plt.xlabel('Marks')\n",
        "plt.show()\n",
        "\n",
        "# Plot average marks per subject\n",
        "avg_marks_subject = df.groupby('Subject')['Marks'].mean()\n",
        "avg_marks_subject.plot(kind='bar', title='Average Marks by Subject')\n",
        "plt.ylabel('Average Marks')\n",
        "plt.show()"
      ],
      "metadata": {
        "colab": {
          "base_uri": "https://localhost:8080/",
          "height": 966
        },
        "id": "sbgVv2vmPza3",
        "outputId": "272dc39a-1336-428a-d5ab-25cf8194c35c"
      },
      "execution_count": 12,
      "outputs": [
        {
          "output_type": "display_data",
          "data": {
            "text/plain": [
              "<Figure size 640x480 with 1 Axes>"
            ],
            "image/png": "[encoded data removed]"
          },
          "metadata": {}
        },
        {
          "output_type": "display_data",
          "data": {
            "text/plain": [
              "<Figure size 640x480 with 1 Axes>"
            ],
            "image/png": "[encoded data removed]"
          },
          "metadata": {}
        }
      ]
    }
  ]
}