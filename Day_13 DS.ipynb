{
  "nbformat": 4,
  "nbformat_minor": 0,
  "metadata": {
    "colab": {
      "provenance": []
    },
    "kernelspec": {
      "name": "python3",
      "display_name": "Python 3"
    },
    "language_info": {
      "name": "python"
    }
  },
  "cells": [
    {
      "cell_type": "code",
      "execution_count": null,
      "metadata": {
        "id": "xroDIOlZAfRT"
      },
      "outputs": [],
      "source": [
        "#Pandas-Based Data Analysis Project"
      ]
    },
    {
      "cell_type": "code",
      "source": [
        "import pandas as pd\n",
        "\n",
        "# Create a dictionary of sample data\n",
        "data = {\n",
        "    'location': ['USA', 'India', 'Brazil', 'Russia', 'UK', 'France', 'Germany', 'Japan', 'Italy', 'Canada'],\n",
        "    'date': ['2022-12-31'] * 10,\n",
        "    'total_cases': [10000000, 9000000, 8500000, 7000000, 6000000, 5500000, 5000000, 4800000, 4700000, 4500000],\n",
        "    'total_deaths': [200000, 150000, 180000, 210000, 120000, 110000, 100000, 95000, 92000, 88000],\n",
        "    'people_vaccinated_per_hundred': [75.5, 68.3, 70.1, 60.4, 80.2, 78.7, 74.3, 69.8, 72.1, 82.9]\n",
        "}\n",
        "\n",
        "# Convert to DataFrame\n",
        "df = pd.DataFrame(data)\n",
        "\n",
        "# Show the DataFrame\n",
        "print(df)\n"
      ],
      "metadata": {
        "colab": {
          "base_uri": "https://localhost:8080/"
        },
        "id": "UkMFzjQrBMuV",
        "outputId": "2ba124b0-8f44-4b98-80e1-cff2554513ab"
      },
      "execution_count": 2,
      "outputs": [
        {
          "output_type": "stream",
          "name": "stdout",
          "text": [
            "  location        date  total_cases  total_deaths  \\\n",
            "0      USA  2022-12-31     10000000        200000   \n",
            "1    India  2022-12-31      9000000        150000   \n",
            "2   Brazil  2022-12-31      8500000        180000   \n",
            "3   Russia  2022-12-31      7000000        210000   \n",
            "4       UK  2022-12-31      6000000        120000   \n",
            "5   France  2022-12-31      5500000        110000   \n",
            "6  Germany  2022-12-31      5000000        100000   \n",
            "7    Japan  2022-12-31      4800000         95000   \n",
            "8    Italy  2022-12-31      4700000         92000   \n",
            "9   Canada  2022-12-31      4500000         88000   \n",
            "\n",
            "   people_vaccinated_per_hundred  \n",
            "0                           75.5  \n",
            "1                           68.3  \n",
            "2                           70.1  \n",
            "3                           60.4  \n",
            "4                           80.2  \n",
            "5                           78.7  \n",
            "6                           74.3  \n",
            "7                           69.8  \n",
            "8                           72.1  \n",
            "9                           82.9  \n"
          ]
        }
      ]
    },
    {
      "cell_type": "code",
      "source": [
        "# 1. Countries with highest cases\n",
        "top_cases = df.sort_values(by='total_cases', ascending=False)\n",
        "print(\"\\nTop Countries by Total Cases:\\n\", top_cases[['location', 'total_cases']])\n",
        "\n",
        "# 2. Countries with highest deaths\n",
        "top_deaths = df.sort_values(by='total_deaths', ascending=False)\n",
        "print(\"\\nTop Countries by Total Deaths:\\n\", top_deaths[['location', 'total_deaths']])\n",
        "\n",
        "# 3. Mortality Rate\n",
        "df['mortality_rate'] = (df['total_deaths'] / df['total_cases']) * 100\n",
        "print(\"\\nMortality Rate by Country:\\n\", df[['location', 'mortality_rate']])\n",
        "\n",
        "# 4. Countries with >70% vaccinated\n",
        "high_vax = df[df['people_vaccinated_per_hundred'] > 70]\n",
        "print(\"\\nCountries with >70% Vaccination:\\n\", high_vax[['location', 'people_vaccinated_per_hundred']])\n"
      ],
      "metadata": {
        "colab": {
          "base_uri": "https://localhost:8080/"
        },
        "id": "fmNRxbuBB_fE",
        "outputId": "a6a793dc-f599-4d59-921e-cfa1f129d229"
      },
      "execution_count": 3,
      "outputs": [
        {
          "output_type": "stream",
          "name": "stdout",
          "text": [
            "\n",
            "Top Countries by Total Cases:\n",
            "   location  total_cases\n",
            "0      USA     10000000\n",
            "1    India      9000000\n",
            "2   Brazil      8500000\n",
            "3   Russia      7000000\n",
            "4       UK      6000000\n",
            "5   France      5500000\n",
            "6  Germany      5000000\n",
            "7    Japan      4800000\n",
            "8    Italy      4700000\n",
            "9   Canada      4500000\n",
            "\n",
            "Top Countries by Total Deaths:\n",
            "   location  total_deaths\n",
            "3   Russia        210000\n",
            "0      USA        200000\n",
            "2   Brazil        180000\n",
            "1    India        150000\n",
            "4       UK        120000\n",
            "5   France        110000\n",
            "6  Germany        100000\n",
            "7    Japan         95000\n",
            "8    Italy         92000\n",
            "9   Canada         88000\n",
            "\n",
            "Mortality Rate by Country:\n",
            "   location  mortality_rate\n",
            "0      USA        2.000000\n",
            "1    India        1.666667\n",
            "2   Brazil        2.117647\n",
            "3   Russia        3.000000\n",
            "4       UK        2.000000\n",
            "5   France        2.000000\n",
            "6  Germany        2.000000\n",
            "7    Japan        1.979167\n",
            "8    Italy        1.957447\n",
            "9   Canada        1.955556\n",
            "\n",
            "Countries with >70% Vaccination:\n",
            "   location  people_vaccinated_per_hundred\n",
            "0      USA                           75.5\n",
            "2   Brazil                           70.1\n",
            "4       UK                           80.2\n",
            "5   France                           78.7\n",
            "6  Germany                           74.3\n",
            "8    Italy                           72.1\n",
            "9   Canada                           82.9\n"
          ]
        }
      ]
    },
    {
      "cell_type": "code",
      "source": [
        "high_vax = df[df['people_vaccinated_per_hundred'] > 70]\n",
        "print(\"🔹 Countries with >70% Vaccination:\\n\", high_vax[['location', 'people_vaccinated_per_hundred']])\n"
      ],
      "metadata": {
        "colab": {
          "base_uri": "https://localhost:8080/"
        },
        "id": "Brp3NbHtCBS5",
        "outputId": "736338dd-0414-4645-d0bb-4fdbfe0cfdc0"
      },
      "execution_count": 5,
      "outputs": [
        {
          "output_type": "stream",
          "name": "stdout",
          "text": [
            "🔹 Countries with >70% Vaccination:\n",
            "   location  people_vaccinated_per_hundred\n",
            "0      USA                           75.5\n",
            "2   Brazil                           70.1\n",
            "4       UK                           80.2\n",
            "5   France                           78.7\n",
            "6  Germany                           74.3\n",
            "8    Italy                           72.1\n",
            "9   Canada                           82.9\n"
          ]
        }
      ]
    },
    {
      "cell_type": "code",
      "source": [
        "top_cases = df.sort_values(by='total_cases', ascending=False).head(5)\n",
        "print(\"🔹 Top 5 Countries by Total Cases:\\n\", top_cases[['location', 'total_cases']])\n"
      ],
      "metadata": {
        "colab": {
          "base_uri": "https://localhost:8080/"
        },
        "id": "ai1iMI-rCL2A",
        "outputId": "3d40d55d-1692-4b43-bf40-a3b28a755c7d"
      },
      "execution_count": 4,
      "outputs": [
        {
          "output_type": "stream",
          "name": "stdout",
          "text": [
            "🔹 Top 5 Countries by Total Cases:\n",
            "   location  total_cases\n",
            "0      USA     10000000\n",
            "1    India      9000000\n",
            "2   Brazil      8500000\n",
            "3   Russia      7000000\n",
            "4       UK      6000000\n"
          ]
        }
      ]
    },
    {
      "cell_type": "code",
      "source": [
        "def vax_category(percent):\n",
        "    if percent >= 70:\n",
        "        return \"High\"\n",
        "    elif percent >= 50:\n",
        "        return \"Medium\"\n",
        "    else:\n",
        "        return \"Low\"\n",
        "\n",
        "df['vax_level'] = df['people_vaccinated_per_hundred'].apply(vax_category)\n",
        "print(\"🔹 Countries Grouped by Vaccination Level:\\n\", df[['location', 'people_vaccinated_per_hundred', 'vax_level']])\n"
      ],
      "metadata": {
        "colab": {
          "base_uri": "https://localhost:8080/"
        },
        "id": "TADxQiOZCRQC",
        "outputId": "a3669553-02fb-4170-9470-3b0641c9bc9f"
      },
      "execution_count": 6,
      "outputs": [
        {
          "output_type": "stream",
          "name": "stdout",
          "text": [
            "🔹 Countries Grouped by Vaccination Level:\n",
            "   location  people_vaccinated_per_hundred vax_level\n",
            "0      USA                           75.5      High\n",
            "1    India                           68.3    Medium\n",
            "2   Brazil                           70.1      High\n",
            "3   Russia                           60.4    Medium\n",
            "4       UK                           80.2      High\n",
            "5   France                           78.7      High\n",
            "6  Germany                           74.3      High\n",
            "7    Japan                           69.8    Medium\n",
            "8    Italy                           72.1      High\n",
            "9   Canada                           82.9      High\n"
          ]
        }
      ]
    },
    {
      "cell_type": "code",
      "source": [
        "q1 = df['mortality_rate'].quantile(0.25)\n",
        "q3 = df['mortality_rate'].quantile(0.75)\n",
        "iqr = q3 - q1\n",
        "\n",
        "lower_bound = q1 - 1.5 * iqr\n",
        "upper_bound = q3 + 1.5 * iqr\n",
        "\n",
        "outliers = df[(df['mortality_rate'] < lower_bound) | (df['mortality_rate'] > upper_bound)]\n",
        "print(\"🔹 Outlier Countries by Mortality Rate:\\n\", outliers[['location', 'mortality_rate']])\n"
      ],
      "metadata": {
        "id": "H2DI7qmsCcSt",
        "outputId": "df87fb69-834d-4166-f9cb-c21d95f2074b",
        "colab": {
          "base_uri": "https://localhost:8080/"
        }
      },
      "execution_count": 7,
      "outputs": [
        {
          "output_type": "stream",
          "name": "stdout",
          "text": [
            "🔹 Outlier Countries by Mortality Rate:\n",
            "   location  mortality_rate\n",
            "1    India        1.666667\n",
            "2   Brazil        2.117647\n",
            "3   Russia        3.000000\n"
          ]
        }
      ]
    }
  ]
}