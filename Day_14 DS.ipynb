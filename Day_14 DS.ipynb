{
  "nbformat": 4,
  "nbformat_minor": 0,
  "metadata": {
    "colab": {
      "provenance": []
    },
    "kernelspec": {
      "name": "python3",
      "display_name": "Python 3"
    },
    "language_info": {
      "name": "python"
    }
  },
  "cells": [
    {
      "cell_type": "code",
      "execution_count": null,
      "metadata": {
        "id": "1RptcE1_FJug"
      },
      "outputs": [],
      "source": [
        "#Student Performance Data Analysis"
      ]
    },
    {
      "cell_type": "code",
      "source": [
        "import numpy as np\n",
        "import pandas as pd\n"
      ],
      "metadata": {
        "id": "nILDBwUxFQ-7"
      },
      "execution_count": 1,
      "outputs": []
    },
    {
      "cell_type": "code",
      "source": [
        "students = [f\"Student_{i}\" for i in range(1, 101)]  # Student_1 to Student_100\n"
      ],
      "metadata": {
        "id": "ondwkqvXFT-b"
      },
      "execution_count": 2,
      "outputs": []
    },
    {
      "cell_type": "code",
      "source": [
        "math_scores = np.random.randint(0, 101, 100)     # 100 marks, 100 students\n",
        "science_scores = np.random.randint(0, 101, 100)\n",
        "english_scores = np.random.randint(0, 101, 100)\n"
      ],
      "metadata": {
        "id": "PBFUL7sXFXMr"
      },
      "execution_count": 3,
      "outputs": []
    },
    {
      "cell_type": "code",
      "source": [
        "math_scores = np.random.randint(0, 101, 100)     # 100 marks, 100 students\n",
        "science_scores = np.random.randint(0, 101, 100)\n",
        "english_scores = np.random.randint(0, 101, 100)\n"
      ],
      "metadata": {
        "id": "u63tpLCeFZro"
      },
      "execution_count": 4,
      "outputs": []
    },
    {
      "cell_type": "code",
      "source": [
        "df = pd.DataFrame({\n",
        "    'Name': students,\n",
        "    'Math': math_scores,\n",
        "    'Science': science_scores,\n",
        "    'English': english_scores\n",
        "})\n"
      ],
      "metadata": {
        "id": "zB1HRlaoFclc"
      },
      "execution_count": 5,
      "outputs": []
    },
    {
      "cell_type": "code",
      "source": [
        "df['Average'] = df[['Math', 'Science', 'English']].mean(axis=1)\n"
      ],
      "metadata": {
        "id": "Vlh2jOM8Ff9p"
      },
      "execution_count": 6,
      "outputs": []
    },
    {
      "cell_type": "code",
      "source": [
        "top_5 = df.nlargest(5, 'Average')\n",
        "print(\"🔹 Top 5 Performers:\\n\", top_5[['Name', 'Average']])\n"
      ],
      "metadata": {
        "colab": {
          "base_uri": "https://localhost:8080/"
        },
        "id": "RcgfXjR9FiiU",
        "outputId": "e4c103fb-9119-4ca3-9dfb-4d082684090d"
      },
      "execution_count": 7,
      "outputs": [
        {
          "output_type": "stream",
          "name": "stdout",
          "text": [
            "🔹 Top 5 Performers:\n",
            "           Name    Average\n",
            "33  Student_34  83.666667\n",
            "90  Student_91  81.666667\n",
            "40  Student_41  79.666667\n",
            "42  Student_43  79.000000\n",
            "16  Student_17  76.666667\n"
          ]
        }
      ]
    },
    {
      "cell_type": "code",
      "source": [
        "failed_students = df[(df[['Math', 'Science', 'English']] < 33).any(axis=1)]\n",
        "print(\"🔹 Students Who Failed in At Least One Subject:\\n\", failed_students[['Name', 'Math', 'Science', 'English']])\n"
      ],
      "metadata": {
        "colab": {
          "base_uri": "https://localhost:8080/"
        },
        "id": "ybON4UB6Flzd",
        "outputId": "7538db1b-082e-4fe3-c424-5f72024bdfbf"
      },
      "execution_count": 8,
      "outputs": [
        {
          "output_type": "stream",
          "name": "stdout",
          "text": [
            "🔹 Students Who Failed in At Least One Subject:\n",
            "            Name  Math  Science  English\n",
            "2     Student_3    92       95        7\n",
            "3     Student_4    15       20       95\n",
            "4     Student_5    18       58       77\n",
            "6     Student_7    73       20       78\n",
            "7     Student_8    17       99       12\n",
            "..          ...   ...      ...      ...\n",
            "94   Student_95    10       85       57\n",
            "95   Student_96    83       27       55\n",
            "96   Student_97    84       27       31\n",
            "97   Student_98    76        2       10\n",
            "99  Student_100    17       13        6\n",
            "\n",
            "[74 rows x 4 columns]\n"
          ]
        }
      ]
    },
    {
      "cell_type": "code",
      "source": [
        "subject_avg = df[['Math', 'Science', 'English']].mean()\n",
        "print(\"🔹 Subject-wise Average Score:\\n\", subject_avg)\n",
        "top_math = df.loc[df['Math'].idxmax()]\n",
        "top_science = df.loc[df['Science'].idxmax()]\n",
        "top_english = df.loc[df['English'].idxmax()]\n",
        "\n",
        "print(\"Top Math Scorer:\", top_math['Name'], \"-\", top_math['Math'])\n",
        "print(\"Top Science Scorer:\", top_science['Name'], \"-\", top_science['Science'])\n",
        "print(\"Top English Scorer:\", top_english['Name'], \"-\", top_english['English'])\n"
      ],
      "metadata": {
        "colab": {
          "base_uri": "https://localhost:8080/"
        },
        "id": "PoUxMeeQFoye",
        "outputId": "9aa7392e-9613-4983-d262-6daf76d77b4f"
      },
      "execution_count": 10,
      "outputs": [
        {
          "output_type": "stream",
          "name": "stdout",
          "text": [
            "🔹 Subject-wise Average Score:\n",
            " Math       52.81\n",
            "Science    48.94\n",
            "English    47.08\n",
            "dtype: float64\n",
            "Top Math Scorer: Student_25 - 99\n",
            "Top Science Scorer: Student_8 - 99\n",
            "Top English Scorer: Student_38 - 99\n"
          ]
        }
      ]
    },
    {
      "cell_type": "code",
      "source": [
        "def get_grade(avg):\n",
        "    if avg >= 90:\n",
        "        return 'A+'\n",
        "    elif avg >= 75:\n",
        "        return 'A'\n",
        "    elif avg >= 60:\n",
        "        return 'B'\n",
        "    elif avg >= 50:\n",
        "        return 'C'\n",
        "    elif avg >= 33:\n",
        "        return 'D'\n",
        "    else:\n",
        "        return 'F'\n",
        "\n",
        "df['Grade'] = df['Average'].apply(get_grade)\n",
        "print(df[['Name', 'Average', 'Grade']])\n"
      ],
      "metadata": {
        "colab": {
          "base_uri": "https://localhost:8080/"
        },
        "id": "4FG2XTq8FvMz",
        "outputId": "968223e8-b003-4d73-a898-43deaf230dbc"
      },
      "execution_count": 11,
      "outputs": [
        {
          "output_type": "stream",
          "name": "stdout",
          "text": [
            "           Name    Average Grade\n",
            "0     Student_1  61.000000     B\n",
            "1     Student_2  63.333333     B\n",
            "2     Student_3  64.666667     B\n",
            "3     Student_4  43.333333     D\n",
            "4     Student_5  51.000000     C\n",
            "..          ...        ...   ...\n",
            "95   Student_96  55.000000     C\n",
            "96   Student_97  47.333333     D\n",
            "97   Student_98  29.333333     F\n",
            "98   Student_99  54.333333     C\n",
            "99  Student_100  12.000000     F\n",
            "\n",
            "[100 rows x 3 columns]\n"
          ]
        }
      ]
    }
  ]
}