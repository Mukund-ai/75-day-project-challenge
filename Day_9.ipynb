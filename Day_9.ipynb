{
  "nbformat": 4,
  "nbformat_minor": 0,
  "metadata": {
    "colab": {
      "provenance": []
    },
    "kernelspec": {
      "name": "python3",
      "display_name": "Python 3"
    },
    "language_info": {
      "name": "python"
    }
  },
  "cells": [
    {
      "cell_type": "code",
      "execution_count": null,
      "metadata": {
        "id": "n95Bq7Icvdu_"
      },
      "outputs": [],
      "source": [
        "#Minesweeper board\n"
      ]
    },
    {
      "cell_type": "markdown",
      "source": [
        "**This project i make for sharpen my nkowledge and skills in numpy **"
      ],
      "metadata": {
        "id": "FbnfMeosvjkC"
      }
    },
    {
      "cell_type": "code",
      "source": [
        "import numpy as np\n",
        "\n",
        "# Initialize a 5x5 board: 0 = empty, 1 = mine\n",
        "board = np.zeros((5, 5), dtype=int)\n",
        "\n",
        "# Randomly place 5 mines\n",
        "mines = np.random.choice(25, 5, replace=False)\n",
        "board[np.unravel_index(mines, board.shape)] = 1\n",
        "\n",
        "print(\"Minesweeper Board (1 = mine, 0 = empty):\\n\", board)\n",
        "\n",
        "# Create a board to store the mine counts\n",
        "counts = np.zeros((5, 5), dtype=int)\n",
        "\n",
        "# Directions for 8 neighbors\n",
        "dirs = [(-1, -1), (-1, 0), (-1, 1),\n",
        "        (0, -1),          (0, 1),\n",
        "        (1, -1),  (1, 0), (1, 1)]\n",
        "\n",
        "# Calculate neighboring mine counts\n",
        "for row in range(5):\n",
        "    for col in range(5):\n",
        "        if board[row, col] == 1:\n",
        "            counts[row, col] = -1  # Mark mines with -1\n",
        "        else:\n",
        "            count = 0\n",
        "            for dr, dc in dirs:\n",
        "                r, c = row + dr, col + dc\n",
        "                if 0 <= r < 5 and 0 <= c < 5 and board[r, c] == 1:\n",
        "                    count += 1\n",
        "            counts[row, col] = count\n",
        "\n",
        "print(\"\\nBoard with mine counts (-1 means mine):\\n\", counts)\n",
        "\n",
        "# Pretty print the board\n",
        "print(\"\\nPretty Minesweeper Board:\")\n",
        "for row in counts:\n",
        "    row_display = \"\"\n",
        "    for cell in row:\n",
        "        if cell == -1:\n",
        "            row_display += \" * \"\n",
        "        else:\n",
        "            row_display += f\" {cell} \"\n",
        "    print(row_display)\n",
        "\n",
        "# Optional: Reveal a specific cell (row, col)\n",
        "reveal_row, reveal_col = 2, 2\n",
        "print(f\"\\nReveal cell ({reveal_row}, {reveal_col}):\")\n",
        "if counts[reveal_row, reveal_col] == -1:\n",
        "    print(\"💥 BOOM! It's a mine!\")\n",
        "else:\n",
        "    print(f\"Safe! {counts[reveal_row, reveal_col]} neighboring mines.\")\n"
      ],
      "metadata": {
        "colab": {
          "base_uri": "https://localhost:8080/"
        },
        "id": "UsTYP4UXvzTK",
        "outputId": "40557700-2d5c-40ff-e67e-7048000d54d5"
      },
      "execution_count": 1,
      "outputs": [
        {
          "output_type": "stream",
          "name": "stdout",
          "text": [
            "Minesweeper Board (1 = mine, 0 = empty):\n",
            " [[1 0 1 0 0]\n",
            " [0 0 1 0 0]\n",
            " [0 1 0 0 0]\n",
            " [0 1 0 0 0]\n",
            " [0 0 0 0 0]]\n",
            "\n",
            "Board with mine counts (-1 means mine):\n",
            " [[-1  3 -1  2  0]\n",
            " [ 2  4 -1  2  0]\n",
            " [ 2 -1  3  1  0]\n",
            " [ 2 -1  2  0  0]\n",
            " [ 1  1  1  0  0]]\n",
            "\n",
            "Pretty Minesweeper Board:\n",
            " *  3  *  2  0 \n",
            " 2  4  *  2  0 \n",
            " 2  *  3  1  0 \n",
            " 2  *  2  0  0 \n",
            " 1  1  1  0  0 \n",
            "\n",
            "Reveal cell (2, 2):\n",
            "Safe! 3 neighboring mines.\n"
          ]
        }
      ]
    }
  ]
}