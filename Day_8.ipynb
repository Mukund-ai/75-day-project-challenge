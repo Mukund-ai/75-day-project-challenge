{
  "nbformat": 4,
  "nbformat_minor": 0,
  "metadata": {
    "colab": {
      "provenance": []
    },
    "kernelspec": {
      "name": "python3",
      "display_name": "Python 3"
    },
    "language_info": {
      "name": "python"
    }
  },
  "cells": [
    {
      "cell_type": "code",
      "execution_count": null,
      "metadata": {
        "id": "_KgNsjpluJCP"
      },
      "outputs": [],
      "source": [
        "# matrix calculation using numpy\n"
      ]
    },
    {
      "cell_type": "code",
      "source": [
        "import numpy as np\n",
        "\n",
        "# Define two random matrices\n",
        "A = np.random.randint(1, 10, (3, 3))\n",
        "B = np.random.randint(1, 10, (3, 3))\n",
        "\n",
        "print(\"Matrix A:\\n\", A)\n",
        "print(\"Matrix B:\\n\", B)\n",
        "\n",
        "# Addition\n",
        "print(\"A + B:\\n\", A + B)\n",
        "\n",
        "# Multiplication\n",
        "print(\"A * B:\\n\", np.dot(A, B))\n",
        "\n",
        "# Determinant\n",
        "print(\"Determinant of A:\", np.linalg.det(A))\n",
        "\n",
        "# Inverse\n",
        "if np.linalg.det(A) != 0:\n",
        "    print(\"Inverse of A:\\n\", np.linalg.inv(A))\n",
        "else:\n",
        "    print(\"A is singular.\")\n"
      ],
      "metadata": {
        "colab": {
          "base_uri": "https://localhost:8080/"
        },
        "id": "ILY1l_iFudLK",
        "outputId": "e300555e-a342-4625-f5d2-e5d69599c817"
      },
      "execution_count": 1,
      "outputs": [
        {
          "output_type": "stream",
          "name": "stdout",
          "text": [
            "Matrix A:\n",
            " [[2 1 1]\n",
            " [4 2 2]\n",
            " [8 5 3]]\n",
            "Matrix B:\n",
            " [[9 1 3]\n",
            " [2 1 8]\n",
            " [3 7 3]]\n",
            "A + B:\n",
            " [[11  2  4]\n",
            " [ 6  3 10]\n",
            " [11 12  6]]\n",
            "A * B:\n",
            " [[23 10 17]\n",
            " [46 20 34]\n",
            " [91 34 73]]\n",
            "Determinant of A: 0.0\n",
            "A is singular.\n"
          ]
        }
      ]
    },
    {
      "cell_type": "code",
      "source": [
        "# Transpose\n",
        "print(\"\\nTranspose of A:\\n\", A.T)\n",
        "\n",
        "# Determinant\n",
        "det_A = np.linalg.det(A)\n",
        "print(\"\\nDeterminant of A:\", det_A)\n",
        "\n",
        "# Rank\n",
        "print(\"\\nRank of A:\", np.linalg.matrix_rank(A))\n",
        "\n",
        "# Trace\n",
        "print(\"\\nTrace of A:\", np.trace(A))"
      ],
      "metadata": {
        "colab": {
          "base_uri": "https://localhost:8080/"
        },
        "id": "3pmBZm7gutIC",
        "outputId": "a4cb9adf-d9f4-4d18-f267-4cadc53db080"
      },
      "execution_count": 2,
      "outputs": [
        {
          "output_type": "stream",
          "name": "stdout",
          "text": [
            "\n",
            "Transpose of A:\n",
            " [[2 4 8]\n",
            " [1 2 5]\n",
            " [1 2 3]]\n",
            "\n",
            "Determinant of A: 0.0\n",
            "\n",
            "Rank of A: 2\n",
            "\n",
            "Trace of A: 7\n"
          ]
        }
      ]
    }
  ]
}